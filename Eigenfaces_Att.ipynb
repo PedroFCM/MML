{
 "cells": [
  {
   "cell_type": "code",
   "execution_count": 7,
   "metadata": {},
   "outputs": [],
   "source": [
    "import numpy as np\n",
    "import matplotlib.pyplot as plt\n",
    "from PIL import Image\n",
    "\n",
    "%matplotlib inline"
   ]
  },
  {
   "cell_type": "markdown",
   "metadata": {},
   "source": [
    "* f é para usar as chavetas {} na string\n",
    "\n",
    "* convert('L') é para tornas as fotografias greyscale (monocromático)"
   ]
  },
  {
   "cell_type": "code",
   "execution_count": 8,
   "metadata": {},
   "outputs": [],
   "source": [
    "base = [Image.open(f'att/s{pasta}/{fig}.pgm').convert('L') for pasta in range(1, 41) for fig in range(1, 10)]"
   ]
  },
  {
   "cell_type": "markdown",
   "metadata": {},
   "source": [
    "#### \"Chama\" a imagem"
   ]
  },
  {
   "cell_type": "code",
   "execution_count": 9,
   "metadata": {},
   "outputs": [
    {
     "data": {
      "image/png": "[encoded data removed]",
      "text/plain": [
       "<PIL.Image.Image image mode=L size=92x112 at 0x25E2316E3D0>"
      ]
     },
     "execution_count": 9,
     "metadata": {},
     "output_type": "execute_result"
    }
   ],
   "source": [
    "input_img = Image.open(f'att/s1/4.pgm').convert('L')\n",
    "input_img"
   ]
  },
  {
   "cell_type": "markdown",
   "metadata": {},
   "source": [
    "#### Saber a quantidade de fotografias que existem"
   ]
  },
  {
   "cell_type": "code",
   "execution_count": 10,
   "metadata": {},
   "outputs": [
    {
     "data": {
      "text/plain": [
       "360"
      ]
     },
     "execution_count": 10,
     "metadata": {},
     "output_type": "execute_result"
    }
   ],
   "source": [
    "M = len(base)\n",
    "M"
   ]
  },
  {
   "cell_type": "markdown",
   "metadata": {},
   "source": [
    "#### Gera uma lista de listas em que cada lista corresponde a uma imagem (0 a 399)"
   ]
  },
  {
   "cell_type": "code",
   "execution_count": 11,
   "metadata": {},
   "outputs": [],
   "source": [
    "X = np.array([base[i].getdata() for i in range(M)])"
   ]
  },
  {
   "cell_type": "markdown",
   "metadata": {},
   "source": [
    "#### Temos 400 listas em que cada uma 10304 elementos"
   ]
  },
  {
   "cell_type": "code",
   "execution_count": 12,
   "metadata": {},
   "outputs": [
    {
     "name": "stdout",
     "output_type": "stream",
     "text": [
      "(360, 10304)\n"
     ]
    },
    {
     "data": {
      "text/plain": [
       "array([[ 48,  49,  45, ...,  47,  46,  46],\n",
       "       [ 60,  60,  62, ...,  32,  34,  34],\n",
       "       [ 39,  44,  53, ...,  29,  26,  29],\n",
       "       ...,\n",
       "       [129, 127, 133, ...,  93,  93,  93],\n",
       "       [125, 119, 124, ...,  36,  39,  40],\n",
       "       [119, 120, 120, ...,  89,  94,  85]])"
      ]
     },
     "execution_count": 12,
     "metadata": {},
     "output_type": "execute_result"
    }
   ],
   "source": [
    "print(X.shape)\n",
    "X"
   ]
  },
  {
   "cell_type": "markdown",
   "metadata": {},
   "source": [
    "#### Centrar o X à média"
   ]
  },
  {
   "cell_type": "code",
   "execution_count": 13,
   "metadata": {},
   "outputs": [],
   "source": [
    "media = np.mean(X, 0)\n",
    "phi = X - media"
   ]
  },
  {
   "cell_type": "code",
   "execution_count": 14,
   "metadata": {},
   "outputs": [
    {
     "data": {
      "text/plain": [
       "array([85.46944444, 85.39722222, 85.75      , ..., 77.76388889,\n",
       "       76.80833333, 75.65555556])"
      ]
     },
     "execution_count": 14,
     "metadata": {},
     "output_type": "execute_result"
    }
   ],
   "source": [
    "media"
   ]
  },
  {
   "cell_type": "code",
   "execution_count": 15,
   "metadata": {},
   "outputs": [
    {
     "data": {
      "text/plain": [
       "(360, 10304)"
      ]
     },
     "execution_count": 15,
     "metadata": {},
     "output_type": "execute_result"
    }
   ],
   "source": [
    "phi.shape"
   ]
  },
  {
   "cell_type": "markdown",
   "metadata": {},
   "source": [
    "* e_faces : vetores singulares\n",
    "* sigma : valores singulares\n",
    "* Não vamos usar o v pelo que metemos como \"_\""
   ]
  },
  {
   "cell_type": "code",
   "execution_count": 16,
   "metadata": {},
   "outputs": [],
   "source": [
    "e_faces, sigma, _ = np.linalg.svd(phi.transpose(), full_matrices = False)"
   ]
  },
  {
   "cell_type": "markdown",
   "metadata": {},
   "source": [
    "#### Os valores singulares são a raiz de um valor próprio, logo:"
   ]
  },
  {
   "cell_type": "code",
   "execution_count": 17,
   "metadata": {},
   "outputs": [],
   "source": [
    "val_prop = sigma*sigma"
   ]
  },
  {
   "cell_type": "markdown",
   "metadata": {},
   "source": [
    "#### Ordenar os valores próprios de forma decrescente"
   ]
  },
  {
   "cell_type": "code",
   "execution_count": 18,
   "metadata": {},
   "outputs": [],
   "source": [
    "val_prop = np.sort(val_prop)\n",
    "# o sort dá a lista ordenada crescentemente\n",
    "# queremos decrescentemente, daí o ::-1\n",
    "val_prop = val_prop[::-1]"
   ]
  },
  {
   "cell_type": "markdown",
   "metadata": {},
   "source": [
    "#### Traço da matriz de dispersão (soma de todos valores próprios)"
   ]
  },
  {
   "cell_type": "code",
   "execution_count": 19,
   "metadata": {},
   "outputs": [],
   "source": [
    "traco = sum(val_prop)"
   ]
  },
  {
   "cell_type": "markdown",
   "metadata": {},
   "source": [
    "#### Calcular o k consoante a confiança da soma dos k primeiros valores próprios.\n",
    "* parar quando temos uma confiança mínima de 80%;\n",
    "* parar quando começar a incrementar menos de 0.5% na confiança."
   ]
  },
  {
   "cell_type": "code",
   "execution_count": 20,
   "metadata": {},
   "outputs": [
    {
     "name": "stdout",
     "output_type": "stream",
     "text": [
      "(confiança, valor próprio): (0.17602075355102015, 1)\n",
      "(confiança, valor próprio): (0.3042427120526611, 2)\n",
      "(confiança, valor próprio): (0.3701502746097275, 3)\n",
      "(confiança, valor próprio): (0.43004636335438134, 4)\n",
      "(confiança, valor próprio): (0.48181403379895155, 5)\n",
      "(confiança, valor próprio): (0.5156409571283465, 6)\n",
      "(confiança, valor próprio): (0.5396369424405144, 7)\n",
      "(confiança, valor próprio): (0.5627667089211039, 8)\n",
      "(confiança, valor próprio): (0.5827178445462503, 9)\n",
      "(confiança, valor próprio): (0.6005345017744348, 10)\n",
      "(confiança, valor próprio): (0.6146754289690152, 11)\n",
      "(confiança, valor próprio): (0.6286326382727323, 12)\n",
      "(confiança, valor próprio): (0.6398365080000064, 13)\n",
      "(confiança, valor próprio): (0.6501350703072091, 14)\n",
      "(confiança, valor próprio): (0.6597773912806204, 15)\n",
      "(confiança, valor próprio): (0.6684477940594751, 16)\n",
      "(confiança, valor próprio): (0.6769257041894268, 17)\n",
      "(confiança, valor próprio): (0.6851149506446509, 18)\n",
      "(confiança, valor próprio): (0.6924567925270453, 19)\n",
      "(confiança, valor próprio): (0.6996299978288528, 20)\n",
      "(confiança, valor próprio): (0.706337471210736, 21)\n",
      "(confiança, valor próprio): (0.712766943542934, 22)\n",
      "(confiança, valor próprio): (0.7188888235326831, 23)\n",
      "(confiança, valor próprio): (0.7248275429900566, 24)\n",
      "(confiança, valor próprio): (0.7301953937302096, 25)\n",
      "(confiança, valor próprio): (0.7354196040961718, 26)\n",
      "(confiança, valor próprio): (0.7404881851132854, 27)\n",
      "(confiança, valor próprio): (0.7452610233296746, 28)\n"
     ]
    },
    {
     "data": {
      "text/plain": [
       "(28, 0.7452610233296746)"
      ]
     },
     "execution_count": 20,
     "metadata": {},
     "output_type": "execute_result"
    }
   ],
   "source": [
    "confianca_alvo = 0.9\n",
    "k = 0\n",
    "confianca = 0\n",
    "confiancaAnt = 0\n",
    "\n",
    "while confianca < confianca_alvo:\n",
    "    confiancaAnt = confianca\n",
    "    confianca = confianca + val_prop[k]/traco\n",
    "    k += 1\n",
    "    \n",
    "    print('(confiança, valor próprio): ({0}, {1})'.format(confianca, k))\n",
    "    \n",
    "    if confianca - confiancaAnt < 0.005:# and confianca > 0.8:\n",
    "        break\n",
    "        \n",
    "k, confianca"
   ]
  },
  {
   "cell_type": "markdown",
   "metadata": {},
   "source": [
    "#### Vamos ver onde se encontra o nosso k escolhido (método do cotovelo / elbow plot)"
   ]
  },
  {
   "cell_type": "code",
   "execution_count": 21,
   "metadata": {},
   "outputs": [
    {
     "data": {
      "image/png": "[encoded data removed]",
      "text/plain": [
       "<Figure size 720x720 with 1 Axes>"
      ]
     },
     "metadata": {
      "needs_background": "light"
     },
     "output_type": "display_data"
    }
   ],
   "source": [
    "plt.figure(figsize = (10, 10))\n",
    "t = np.arange(0, M, 1)\n",
    "plt.plot(t, val_prop, 'x')\n",
    "plt.plot(k, val_prop[k], 'o')\n",
    "plt.show()"
   ]
  },
  {
   "cell_type": "markdown",
   "metadata": {},
   "source": [
    "#### Queremos os k primeiros vetores próprios"
   ]
  },
  {
   "cell_type": "code",
   "execution_count": 22,
   "metadata": {},
   "outputs": [],
   "source": [
    "newE_Faces = e_faces[:, 0:k]"
   ]
  },
  {
   "cell_type": "code",
   "execution_count": 23,
   "metadata": {},
   "outputs": [
    {
     "data": {
      "text/plain": [
       "(360, 10304)"
      ]
     },
     "execution_count": 23,
     "metadata": {},
     "output_type": "execute_result"
    }
   ],
   "source": [
    "phi.shape"
   ]
  },
  {
   "cell_type": "code",
   "execution_count": 24,
   "metadata": {},
   "outputs": [
    {
     "data": {
      "text/plain": [
       "(10304, 28)"
      ]
     },
     "execution_count": 24,
     "metadata": {},
     "output_type": "execute_result"
    }
   ],
   "source": [
    "newE_Faces.shape"
   ]
  },
  {
   "cell_type": "code",
   "execution_count": 25,
   "metadata": {
    "scrolled": true
   },
   "outputs": [],
   "source": [
    "coef_proj = [np.dot(phi[i], newE_Faces) for i in range(M)]"
   ]
  },
  {
   "cell_type": "code",
   "execution_count": 26,
   "metadata": {},
   "outputs": [
    {
     "data": {
      "text/plain": [
       "<matplotlib.image.AxesImage at 0x25e22d97850>"
      ]
     },
     "metadata": {},
     "output_type": "display_data"
    },
    {
     "data": {
      "image/png": "[encoded data removed]",
      "text/plain": [
       "<Figure size 288x350.609 with 1 Axes>"
      ]
     },
     "metadata": {
      "needs_background": "light"
     },
     "output_type": "display_data"
    }
   ],
   "source": [
    "display(plt.matshow(np.reshape(newE_Faces.T[0], (112, 92)), cmap = 'gray'))"
   ]
  },
  {
   "cell_type": "code",
   "execution_count": 27,
   "metadata": {},
   "outputs": [
    {
     "data": {
      "text/plain": [
       "<matplotlib.image.AxesImage at 0x25e22df74c0>"
      ]
     },
     "metadata": {},
     "output_type": "display_data"
    },
    {
     "data": {
      "image/png": "[encoded data removed]",
      "text/plain": [
       "<Figure size 288x350.609 with 1 Axes>"
      ]
     },
     "metadata": {
      "needs_background": "light"
     },
     "output_type": "display_data"
    }
   ],
   "source": [
    "display(plt.matshow(np.reshape(newE_Faces.T[1], (112, 92)), cmap = 'gray'))"
   ]
  },
  {
   "cell_type": "code",
   "execution_count": 28,
   "metadata": {},
   "outputs": [
    {
     "data": {
      "text/plain": [
       "<matplotlib.image.AxesImage at 0x25e28853eb0>"
      ]
     },
     "metadata": {},
     "output_type": "display_data"
    },
    {
     "data": {
      "image/png": "[encoded data removed]",
      "text/plain": [
       "<Figure size 288x350.609 with 1 Axes>"
      ]
     },
     "metadata": {
      "needs_background": "light"
     },
     "output_type": "display_data"
    }
   ],
   "source": [
    "display(plt.matshow(np.reshape(newE_Faces.T[2], (112, 92)), cmap = 'gray'))"
   ]
  },
  {
   "cell_type": "code",
   "execution_count": 29,
   "metadata": {},
   "outputs": [
    {
     "data": {
      "text/plain": [
       "<matplotlib.image.AxesImage at 0x25e288abbb0>"
      ]
     },
     "metadata": {},
     "output_type": "display_data"
    },
    {
     "data": {
      "image/png": "[encoded data removed]",
      "text/plain": [
       "<Figure size 288x350.609 with 1 Axes>"
      ]
     },
     "metadata": {
      "needs_background": "light"
     },
     "output_type": "display_data"
    }
   ],
   "source": [
    "display(plt.matshow(np.reshape(newE_Faces.T[3], (112, 92)), cmap = 'gray'))"
   ]
  },
  {
   "cell_type": "code",
   "execution_count": 30,
   "metadata": {},
   "outputs": [
    {
     "data": {
      "image/png": "[encoded data removed]",
      "text/plain": [
       "<PIL.Image.Image image mode=L size=92x112 at 0x25E22991F40>"
      ]
     },
     "execution_count": 30,
     "metadata": {},
     "output_type": "execute_result"
    }
   ],
   "source": [
    "input_img = Image.open(f'att/1.pgm').convert('L')\n",
    "input_img"
   ]
  },
  {
   "cell_type": "code",
   "execution_count": 31,
   "metadata": {},
   "outputs": [],
   "source": [
    "gamma = np.array(input_img.getdata())"
   ]
  },
  {
   "cell_type": "code",
   "execution_count": 32,
   "metadata": {},
   "outputs": [],
   "source": [
    "test_phi = gamma - media"
   ]
  },
  {
   "cell_type": "code",
   "execution_count": 33,
   "metadata": {},
   "outputs": [],
   "source": [
    "test_coef_proj = np.dot(test_phi, newE_Faces)"
   ]
  },
  {
   "cell_type": "code",
   "execution_count": 34,
   "metadata": {},
   "outputs": [
    {
     "data": {
      "text/plain": [
       "(28,)"
      ]
     },
     "execution_count": 34,
     "metadata": {},
     "output_type": "execute_result"
    }
   ],
   "source": [
    "test_coef_proj.shape"
   ]
  },
  {
   "cell_type": "code",
   "execution_count": 35,
   "metadata": {},
   "outputs": [],
   "source": [
    "def euclidian(coef_proj, test_coef_proj, M):\n",
    "    dist = [np.linalg.norm(coef_proj[i] - test_coef_proj) for i in range(M)]\n",
    "    return dist"
   ]
  },
  {
   "cell_type": "code",
   "execution_count": 36,
   "metadata": {},
   "outputs": [],
   "source": [
    "def mahalanobis(coef_proj, test_coef_proj, val_prop, M):\n",
    "    dist = [np.sum(np.divide(pow(coef_proj[i] - test_coef_proj, 2), val_prop)) for i in range(M)]\n",
    "    return dist"
   ]
  },
  {
   "cell_type": "code",
   "execution_count": 37,
   "metadata": {},
   "outputs": [],
   "source": [
    "def mahalanobisV2(coef_proj, test_coef_proj, val_prop, M):\n",
    "    dist = []\n",
    "    for i in range(M):\n",
    "        dist.append(np.sum(np.divide((coef_proj[i]-test_coef_proj)**2, val_prop)))\n",
    "    return dist"
   ]
  },
  {
   "cell_type": "code",
   "execution_count": 38,
   "metadata": {},
   "outputs": [
    {
     "name": "stdout",
     "output_type": "stream",
     "text": [
      "2457.8829165129023\n",
      "0.04853425511251502\n"
     ]
    }
   ],
   "source": [
    "dist = euclidian(coef_proj, test_coef_proj, M)\n",
    "distM = mahalanobis(coef_proj, test_coef_proj, val_prop[:k], M)\n",
    "d_min = np.min(dist)\n",
    "print(d_min)\n",
    "print(np.min(distM))"
   ]
  },
  {
   "cell_type": "code",
   "execution_count": 39,
   "metadata": {},
   "outputs": [
    {
     "name": "stdout",
     "output_type": "stream",
     "text": [
      "360\n",
      "360\n"
     ]
    }
   ],
   "source": [
    "print(len(dist))\n",
    "print(len(distM))"
   ]
  },
  {
   "cell_type": "code",
   "execution_count": 40,
   "metadata": {},
   "outputs": [
    {
     "data": {
      "text/plain": [
       "2457.8829165129023"
      ]
     },
     "execution_count": 40,
     "metadata": {},
     "output_type": "execute_result"
    }
   ],
   "source": [
    "d_min"
   ]
  },
  {
   "cell_type": "code",
   "execution_count": 41,
   "metadata": {},
   "outputs": [
    {
     "data": {
      "text/plain": [
       "4"
      ]
     },
     "execution_count": 41,
     "metadata": {},
     "output_type": "execute_result"
    }
   ],
   "source": [
    "np.argmin(dist)"
   ]
  },
  {
   "cell_type": "markdown",
   "metadata": {},
   "source": [
    "* Falta definir o limite para as duas distâncias quando tivermos as nossas fotos"
   ]
  },
  {
   "cell_type": "code",
   "execution_count": 42,
   "metadata": {},
   "outputs": [],
   "source": [
    "def recognition(dist, typeDist):\n",
    "    d_min = np.min(dist)\n",
    "    \n",
    "    if typeDist == 'euclidian':\n",
    "        limite = 3000\n",
    "    else:\n",
    "        limite = 0.03\n",
    "    \n",
    "    if d_min < limite:\n",
    "        # como temos 9 imagens por pasta\n",
    "        pasta = int(np.floor(np.argmin(dist)/9)+1)\n",
    "        print('Para a distância: ', typeDist)\n",
    "        print('\\tPasta s'f'{pasta}\\n\\tdist = {d_min}')\n",
    "    else:\n",
    "        print('Falhou no reconhecimento.')"
   ]
  },
  {
   "cell_type": "code",
   "execution_count": 43,
   "metadata": {},
   "outputs": [
    {
     "name": "stdout",
     "output_type": "stream",
     "text": [
      "Falhou no reconhecimento.\n"
     ]
    }
   ],
   "source": [
    "recognition(distM, 'mahalanobis')"
   ]
  },
  {
   "cell_type": "code",
   "execution_count": 44,
   "metadata": {},
   "outputs": [
    {
     "name": "stdout",
     "output_type": "stream",
     "text": [
      "Para a distância:  euclidian\n",
      "\tPasta s1\n",
      "\tdist = 2457.8829165129023\n"
     ]
    }
   ],
   "source": [
    "recognition(dist, 'euclidian')"
   ]
  },
  {
   "cell_type": "code",
   "execution_count": 45,
   "metadata": {},
   "outputs": [],
   "source": [
    "def identifyImage(img, typeDist):\n",
    "    gamma = np.array(img.getdata())\n",
    "    test_phi = gamma - media\n",
    "    test_coef_proj = np.dot(test_phi, newE_Faces)\n",
    "    \n",
    "    if typeDist == 'euclidian':\n",
    "        dist = euclidian(coef_proj, test_coef_proj, M)\n",
    "    elif typeDist == 'mahalanobis':\n",
    "        dist = mahalanobis(coef_proj, test_coef_proj, val_prop[:k], M)\n",
    "    else:\n",
    "        print('Something went wrong :(')\n",
    "        return\n",
    "    \n",
    "    recognition(dist, typeDist)\n",
    "    return test_coef_proj[0:2]"
   ]
  },
  {
   "cell_type": "code",
   "execution_count": 46,
   "metadata": {},
   "outputs": [],
   "source": [
    "def identify(img):\n",
    "    gamma = np.array(img.getdata())\n",
    "    test_phi = gamma - media\n",
    "    test_coef_proj = np.dot(test_phi, newE_Faces)\n",
    "    return test_coef_proj[0:2]"
   ]
  },
  {
   "cell_type": "code",
   "execution_count": 47,
   "metadata": {},
   "outputs": [
    {
     "name": "stdout",
     "output_type": "stream",
     "text": [
      "Falhou no reconhecimento.\n"
     ]
    },
    {
     "data": {
      "text/plain": [
       "array([2606.84996916,  866.92279322])"
      ]
     },
     "execution_count": 47,
     "metadata": {},
     "output_type": "execute_result"
    }
   ],
   "source": [
    "identifyImage(Image.open(f'att/1.pgm').convert('L'), 'mahalanobis')"
   ]
  },
  {
   "cell_type": "code",
   "execution_count": 48,
   "metadata": {},
   "outputs": [
    {
     "name": "stdout",
     "output_type": "stream",
     "text": [
      "Para a distância:  euclidian\n",
      "\tPasta s1\n",
      "\tdist = 2457.8829165129023\n"
     ]
    },
    {
     "data": {
      "text/plain": [
       "array([2606.84996916,  866.92279322])"
      ]
     },
     "execution_count": 48,
     "metadata": {},
     "output_type": "execute_result"
    }
   ],
   "source": [
    "identifyImage(Image.open(f'att/1.pgm').convert('L'), 'euclidian')"
   ]
  },
  {
   "cell_type": "code",
   "execution_count": 49,
   "metadata": {},
   "outputs": [
    {
     "data": {
      "image/png": "[encoded data removed]",
      "text/plain": [
       "<PIL.Image.Image image mode=L size=92x112 at 0x25E288E6580>"
      ]
     },
     "execution_count": 49,
     "metadata": {},
     "output_type": "execute_result"
    }
   ],
   "source": [
    "Image.open(f'att/s1/7.pgm').convert('L')"
   ]
  },
  {
   "cell_type": "code",
   "execution_count": 50,
   "metadata": {},
   "outputs": [
    {
     "data": {
      "image/png": "[encoded data removed]",
      "text/plain": [
       "<PIL.Image.Image image mode=L size=92x112 at 0x25E288E6040>"
      ]
     },
     "execution_count": 50,
     "metadata": {},
     "output_type": "execute_result"
    }
   ],
   "source": [
    "Image.open(f'att/s1/1.pgm').convert('L')"
   ]
  },
  {
   "cell_type": "code",
   "execution_count": 51,
   "metadata": {},
   "outputs": [
    {
     "data": {
      "text/plain": [
       "Text(0, 0.5, 'Eigenface 2')"
      ]
     },
     "execution_count": 51,
     "metadata": {},
     "output_type": "execute_result"
    },
    {
     "data": {
      "image/png": "[encoded data removed]",
      "text/plain": [
       "<Figure size 1080x1080 with 1 Axes>"
      ]
     },
     "metadata": {
      "needs_background": "light"
     },
     "output_type": "display_data"
    }
   ],
   "source": [
    "plt.figure(figsize = (15, 15))\n",
    "plt.axis('equal')\n",
    "for pasta in range(1, 41):\n",
    "    imagens = [Image.open(f'att/s{pasta}/{i}.pgm').convert('L') for i in range(3, 4)]\n",
    "    x, y = np.array([identify(pic) for pic in imagens]).T\n",
    "    plt.scatter(x, y, s = 50)\n",
    "    plt.text(x, y, pasta)\n",
    "plt.scatter(*identify(input_img), label = 'Input image', marker = '^', c = 'k', s = 100)\n",
    "plt.xlabel('Eigenface 1')\n",
    "plt.ylabel('Eigenface 2')"
   ]
  },
  {
   "cell_type": "code",
   "execution_count": 103,
   "metadata": {},
   "outputs": [
    {
     "data": {
      "text/plain": [
       "4700.229873032058"
      ]
     },
     "execution_count": 103,
     "metadata": {},
     "output_type": "execute_result"
    }
   ],
   "source": [
    "np.linalg.norm(coef_proj[242] - test_coef_proj)"
   ]
  },
  {
   "cell_type": "code",
   "execution_count": 104,
   "metadata": {},
   "outputs": [
    {
     "data": {
      "text/plain": [
       "6641.5741470581825"
      ]
     },
     "execution_count": 104,
     "metadata": {},
     "output_type": "execute_result"
    }
   ],
   "source": [
    "np.linalg.norm(coef_proj[82] - test_coef_proj)"
   ]
  },
  {
   "cell_type": "code",
   "execution_count": 127,
   "metadata": {},
   "outputs": [
    {
     "name": "stdout",
     "output_type": "stream",
     "text": [
      "Para a distância:  euclidian\n",
      "\tPasta s1\n",
      "\tdist = 2457.8829165129023\n",
      "\treal person:  1 \n",
      "\n",
      "Para a distância:  euclidian\n",
      "\tPasta s2\n",
      "\tdist = 825.5244067616856\n",
      "\treal person:  2 \n",
      "\n",
      "Para a distância:  euclidian\n",
      "\tPasta s3\n",
      "\tdist = 856.3930108374464\n",
      "\treal person:  3 \n",
      "\n",
      "Para a distância:  euclidian\n",
      "\tPasta s4\n",
      "\tdist = 1300.8702876080208\n",
      "\treal person:  4 \n",
      "\n",
      "Para a distância:  euclidian\n",
      "\tPasta s40\n",
      "\tdist = 1586.5061344071646\n",
      "\treal person:  5 \n",
      "\n",
      "Para a distância:  euclidian\n",
      "\tPasta s6\n",
      "\tdist = 510.7249396339505\n",
      "\treal person:  6 \n",
      "\n",
      "Para a distância:  euclidian\n",
      "\tPasta s7\n",
      "\tdist = 1273.4129198122819\n",
      "\treal person:  7 \n",
      "\n",
      "Para a distância:  euclidian\n",
      "\tPasta s8\n",
      "\tdist = 1146.9508536155242\n",
      "\treal person:  8 \n",
      "\n",
      "Para a distância:  euclidian\n",
      "\tPasta s9\n",
      "\tdist = 1270.4810804901012\n",
      "\treal person:  9 \n",
      "\n",
      "Para a distância:  euclidian\n",
      "\tPasta s38\n",
      "\tdist = 2725.5021666912317\n",
      "\treal person:  10 \n",
      "\n",
      "Para a distância:  euclidian\n",
      "\tPasta s11\n",
      "\tdist = 1171.2782383172146\n",
      "\treal person:  11 \n",
      "\n",
      "Para a distância:  euclidian\n",
      "\tPasta s12\n",
      "\tdist = 797.1015527223042\n",
      "\treal person:  12 \n",
      "\n",
      "Para a distância:  euclidian\n",
      "\tPasta s13\n",
      "\tdist = 411.608766251241\n",
      "\treal person:  13 \n",
      "\n",
      "Para a distância:  euclidian\n",
      "\tPasta s14\n",
      "\tdist = 1783.3416895471646\n",
      "\treal person:  14 \n",
      "\n",
      "Para a distância:  euclidian\n",
      "\tPasta s15\n",
      "\tdist = 715.2911607425096\n",
      "\treal person:  15 \n",
      "\n",
      "Para a distância:  euclidian\n",
      "\tPasta s16\n",
      "\tdist = 1607.0477020023313\n",
      "\treal person:  16 \n",
      "\n",
      "Para a distância:  euclidian\n",
      "\tPasta s17\n",
      "\tdist = 939.883813711935\n",
      "\treal person:  17 \n",
      "\n",
      "Para a distância:  euclidian\n",
      "\tPasta s18\n",
      "\tdist = 1447.6716284122524\n",
      "\treal person:  18 \n",
      "\n",
      "Para a distância:  euclidian\n",
      "\tPasta s19\n",
      "\tdist = 1157.2712626503844\n",
      "\treal person:  19 \n",
      "\n",
      "Para a distância:  euclidian\n",
      "\tPasta s20\n",
      "\tdist = 850.8794034315271\n",
      "\treal person:  20 \n",
      "\n",
      "Para a distância:  euclidian\n",
      "\tPasta s21\n",
      "\tdist = 794.5605070618213\n",
      "\treal person:  21 \n",
      "\n",
      "Para a distância:  euclidian\n",
      "\tPasta s22\n",
      "\tdist = 797.8139217219469\n",
      "\treal person:  22 \n",
      "\n",
      "Para a distância:  euclidian\n",
      "\tPasta s23\n",
      "\tdist = 1392.537043061339\n",
      "\treal person:  23 \n",
      "\n",
      "Para a distância:  euclidian\n",
      "\tPasta s24\n",
      "\tdist = 979.1866613482573\n",
      "\treal person:  24 \n",
      "\n",
      "Para a distância:  euclidian\n",
      "\tPasta s25\n",
      "\tdist = 959.9406556041541\n",
      "\treal person:  25 \n",
      "\n",
      "Para a distância:  euclidian\n",
      "\tPasta s26\n",
      "\tdist = 449.60823223449256\n",
      "\treal person:  26 \n",
      "\n",
      "Para a distância:  euclidian\n",
      "\tPasta s27\n",
      "\tdist = 1402.3491607720873\n",
      "\treal person:  27 \n",
      "\n",
      "Para a distância:  euclidian\n",
      "\tPasta s28\n",
      "\tdist = 1545.305423130589\n",
      "\treal person:  28 \n",
      "\n",
      "Para a distância:  euclidian\n",
      "\tPasta s29\n",
      "\tdist = 1362.6981521220844\n",
      "\treal person:  29 \n",
      "\n",
      "Para a distância:  euclidian\n",
      "\tPasta s30\n",
      "\tdist = 886.7299447076455\n",
      "\treal person:  30 \n",
      "\n"
     ]
    }
   ],
   "source": [
    "for image in range(1, 31):\n",
    "    identifyImage(Image.open(f'att/{image}.pgm').convert('L'), 'euclidian')\n",
    "    print('\\treal person: ', image,'\\n')"
   ]
  },
  {
   "cell_type": "code",
   "execution_count": 114,
   "metadata": {},
   "outputs": [
    {
     "data": {
      "image/png": "[encoded data removed]",
      "text/plain": [
       "<PIL.Image.Image image mode=L size=92x112 at 0x26CD274D4C0>"
      ]
     },
     "execution_count": 114,
     "metadata": {},
     "output_type": "execute_result"
    }
   ],
   "source": [
    "Image.open(f'att/10.pgm').convert('L')"
   ]
  },
  {
   "cell_type": "code",
   "execution_count": 110,
   "metadata": {},
   "outputs": [
    {
     "data": {
      "image/png": "[encoded data removed]",
      "text/plain": [
       "<PIL.Image.Image image mode=L size=92x112 at 0x26CD26632E0>"
      ]
     },
     "execution_count": 110,
     "metadata": {},
     "output_type": "execute_result"
    }
   ],
   "source": [
    "Image.open(f'att/s38/1.pgm').convert('L')"
   ]
  },
  {
   "cell_type": "code",
   "execution_count": 108,
   "metadata": {},
   "outputs": [
    {
     "name": "stdout",
     "output_type": "stream",
     "text": [
      "Falhou no reconhecimento.\n"
     ]
    },
    {
     "data": {
      "text/plain": [
       "array([2606.84996916,  866.92279322])"
      ]
     },
     "execution_count": 108,
     "metadata": {},
     "output_type": "execute_result"
    }
   ],
   "source": [
    "identifyImage(Image.open(f'att/1.pgm').convert('L'), 'mahalanobis')"
   ]
  },
  {
   "cell_type": "code",
   "execution_count": null,
   "metadata": {},
   "outputs": [],
   "source": []
  },
  {
   "cell_type": "code",
   "execution_count": null,
   "metadata": {},
   "outputs": [],
   "source": []
  },
  {
   "cell_type": "code",
   "execution_count": null,
   "metadata": {},
   "outputs": [],
   "source": []
  },
  {
   "cell_type": "code",
   "execution_count": null,
   "metadata": {},
   "outputs": [],
   "source": []
  },
  {
   "cell_type": "code",
   "execution_count": null,
   "metadata": {},
   "outputs": [],
   "source": []
  },
  {
   "cell_type": "code",
   "execution_count": null,
   "metadata": {},
   "outputs": [],
   "source": []
  }
 ],
 "metadata": {
  "kernelspec": {
   "display_name": "Python 3",
   "language": "python",
   "name": "python3"
  },
  "language_info": {
   "codemirror_mode": {
    "name": "ipython",
    "version": 3
   },
   "file_extension": ".py",
   "mimetype": "text/x-python",
   "name": "python",
   "nbconvert_exporter": "python",
   "pygments_lexer": "ipython3",
   "version": "3.8.3"
  }
 },
 "nbformat": 4,
 "nbformat_minor": 4
}
