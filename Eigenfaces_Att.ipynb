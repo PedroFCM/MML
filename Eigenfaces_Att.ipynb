{
 "cells": [
  {
   "cell_type": "code",
   "execution_count": 1,
   "metadata": {},
   "outputs": [],
   "source": [
    "import numpy as np\n",
    "import matplotlib.pyplot as plt\n",
    "from PIL import Image\n",
    "\n",
    "%matplotlib inline"
   ]
  },
  {
   "cell_type": "markdown",
   "metadata": {},
   "source": [
    "* f é para usar as chavetas {} na string\n",
    "\n",
    "* convert('L') é para tornas as fotografias greyscale (monocromático)"
   ]
  },
  {
   "cell_type": "code",
   "execution_count": 2,
   "metadata": {},
   "outputs": [],
   "source": [
    "base = [Image.open(f'att/s{pasta}/{fig}.pgm').convert('L') for pasta in range(1, 41) for fig in range(1, 10)]"
   ]
  },
  {
   "cell_type": "markdown",
   "metadata": {},
   "source": [
    "#### \"Chama\" a imagem"
   ]
  },
  {
   "cell_type": "code",
   "execution_count": 3,
   "metadata": {},
   "outputs": [
    {
     "data": {
      "image/png": "[encoded data removed]",
      "text/plain": [
       "<PIL.Image.Image image mode=L size=92x112 at 0x208249DA640>"
      ]
     },
     "execution_count": 3,
     "metadata": {},
     "output_type": "execute_result"
    }
   ],
   "source": [
    "input_img = Image.open(f'att/s1/4.pgm').convert('L')\n",
    "input_img"
   ]
  },
  {
   "cell_type": "markdown",
   "metadata": {},
   "source": [
    "#### Saber a quantidade de fotografias que existem"
   ]
  },
  {
   "cell_type": "code",
   "execution_count": 4,
   "metadata": {},
   "outputs": [
    {
     "data": {
      "text/plain": [
       "360"
      ]
     },
     "execution_count": 4,
     "metadata": {},
     "output_type": "execute_result"
    }
   ],
   "source": [
    "M = len(base)\n",
    "M"
   ]
  },
  {
   "cell_type": "markdown",
   "metadata": {},
   "source": [
    "#### Gera uma lista de listas em que cada lista corresponde a uma imagem (0 a 399)"
   ]
  },
  {
   "cell_type": "code",
   "execution_count": 5,
   "metadata": {},
   "outputs": [],
   "source": [
    "X = np.array([base[i].getdata() for i in range(M)])"
   ]
  },
  {
   "cell_type": "markdown",
   "metadata": {},
   "source": [
    "#### Temos 400 listas em que cada uma 10304 elementos"
   ]
  },
  {
   "cell_type": "code",
   "execution_count": 6,
   "metadata": {},
   "outputs": [
    {
     "name": "stdout",
     "output_type": "stream",
     "text": [
      "(360, 10304)\n"
     ]
    },
    {
     "data": {
      "text/plain": [
       "array([[ 48,  49,  45, ...,  47,  46,  46],\n",
       "       [ 60,  60,  62, ...,  32,  34,  34],\n",
       "       [ 39,  44,  53, ...,  29,  26,  29],\n",
       "       ...,\n",
       "       [129, 127, 133, ...,  93,  93,  93],\n",
       "       [125, 119, 124, ...,  36,  39,  40],\n",
       "       [119, 120, 120, ...,  89,  94,  85]])"
      ]
     },
     "execution_count": 6,
     "metadata": {},
     "output_type": "execute_result"
    }
   ],
   "source": [
    "print(X.shape)\n",
    "X"
   ]
  },
  {
   "cell_type": "markdown",
   "metadata": {},
   "source": [
    "#### Centrar o X à média"
   ]
  },
  {
   "cell_type": "code",
   "execution_count": 7,
   "metadata": {},
   "outputs": [],
   "source": [
    "media = np.mean(X, 0)\n",
    "phi = X - media"
   ]
  },
  {
   "cell_type": "code",
   "execution_count": 8,
   "metadata": {},
   "outputs": [
    {
     "data": {
      "text/plain": [
       "array([85.46944444, 85.39722222, 85.75      , ..., 77.76388889,\n",
       "       76.80833333, 75.65555556])"
      ]
     },
     "execution_count": 8,
     "metadata": {},
     "output_type": "execute_result"
    }
   ],
   "source": [
    "media"
   ]
  },
  {
   "cell_type": "code",
   "execution_count": 9,
   "metadata": {},
   "outputs": [
    {
     "data": {
      "text/plain": [
       "(360, 10304)"
      ]
     },
     "execution_count": 9,
     "metadata": {},
     "output_type": "execute_result"
    }
   ],
   "source": [
    "phi.shape"
   ]
  },
  {
   "cell_type": "markdown",
   "metadata": {},
   "source": [
    "* e_faces : vetores singulares\n",
    "* sigma : valores singulares\n",
    "* Não vamos usar o v pelo que metemos como \"_\""
   ]
  },
  {
   "cell_type": "code",
   "execution_count": 10,
   "metadata": {},
   "outputs": [],
   "source": [
    "e_faces, sigma, _ = np.linalg.svd(phi.transpose(), full_matrices = False)"
   ]
  },
  {
   "cell_type": "code",
   "execution_count": 11,
   "metadata": {},
   "outputs": [
    {
     "data": {
      "text/plain": [
       "(360, 360)"
      ]
     },
     "execution_count": 11,
     "metadata": {},
     "output_type": "execute_result"
    }
   ],
   "source": [
    "'''\n",
    "cov = np.cov(phi)\n",
    "cov.shape\n",
    "'''"
   ]
  },
  {
   "cell_type": "markdown",
   "metadata": {},
   "source": [
    "#### Os valores singulares são a raiz de um valor próprio, logo:"
   ]
  },
  {
   "cell_type": "code",
   "execution_count": 14,
   "metadata": {},
   "outputs": [],
   "source": [
    "val_prop = sigma*sigma"
   ]
  },
  {
   "cell_type": "markdown",
   "metadata": {},
   "source": [
    "#### Ordenar os valores próprios de forma decrescente"
   ]
  },
  {
   "cell_type": "code",
   "execution_count": 15,
   "metadata": {},
   "outputs": [],
   "source": [
    "val_prop = np.sort(val_prop)\n",
    "# o sort dá a lista ordenada crescentemente\n",
    "# queremos decrescentemente, daí o ::-1\n",
    "val_prop = val_prop[::-1]"
   ]
  },
  {
   "cell_type": "markdown",
   "metadata": {},
   "source": [
    "#### Traço da matriz de dispersão (soma de todos valores próprios)"
   ]
  },
  {
   "cell_type": "code",
   "execution_count": 16,
   "metadata": {},
   "outputs": [],
   "source": [
    "traco = sum(val_prop)"
   ]
  },
  {
   "cell_type": "markdown",
   "metadata": {},
   "source": [
    "#### Calcular o k consoante a confiança da soma dos k primeiros valores próprios.\n",
    "* parar quando temos uma confiança mínima de 80%;\n",
    "* parar quando começar a incrementar menos de 0.5% na confiança."
   ]
  },
  {
   "cell_type": "code",
   "execution_count": 17,
   "metadata": {},
   "outputs": [
    {
     "name": "stdout",
     "output_type": "stream",
     "text": [
      "(confiança, valor próprio): (0.17602075355102015, 1)\n",
      "(confiança, valor próprio): (0.3042427120526611, 2)\n",
      "(confiança, valor próprio): (0.3701502746097275, 3)\n",
      "(confiança, valor próprio): (0.43004636335438134, 4)\n",
      "(confiança, valor próprio): (0.48181403379895155, 5)\n",
      "(confiança, valor próprio): (0.5156409571283465, 6)\n",
      "(confiança, valor próprio): (0.5396369424405144, 7)\n",
      "(confiança, valor próprio): (0.5627667089211039, 8)\n",
      "(confiança, valor próprio): (0.5827178445462503, 9)\n",
      "(confiança, valor próprio): (0.6005345017744348, 10)\n",
      "(confiança, valor próprio): (0.6146754289690152, 11)\n",
      "(confiança, valor próprio): (0.6286326382727323, 12)\n",
      "(confiança, valor próprio): (0.6398365080000064, 13)\n",
      "(confiança, valor próprio): (0.6501350703072091, 14)\n",
      "(confiança, valor próprio): (0.6597773912806204, 15)\n",
      "(confiança, valor próprio): (0.6684477940594751, 16)\n",
      "(confiança, valor próprio): (0.6769257041894268, 17)\n",
      "(confiança, valor próprio): (0.6851149506446509, 18)\n",
      "(confiança, valor próprio): (0.6924567925270453, 19)\n",
      "(confiança, valor próprio): (0.6996299978288528, 20)\n",
      "(confiança, valor próprio): (0.706337471210736, 21)\n",
      "(confiança, valor próprio): (0.712766943542934, 22)\n",
      "(confiança, valor próprio): (0.7188888235326831, 23)\n",
      "(confiança, valor próprio): (0.7248275429900566, 24)\n",
      "(confiança, valor próprio): (0.7301953937302096, 25)\n",
      "(confiança, valor próprio): (0.7354196040961718, 26)\n",
      "(confiança, valor próprio): (0.7404881851132854, 27)\n",
      "(confiança, valor próprio): (0.7452610233296746, 28)\n"
     ]
    },
    {
     "data": {
      "text/plain": [
       "(28, 0.7452610233296746)"
      ]
     },
     "execution_count": 17,
     "metadata": {},
     "output_type": "execute_result"
    }
   ],
   "source": [
    "confianca_alvo = 0.9\n",
    "k = 0\n",
    "confianca = 0\n",
    "confiancaAnt = 0\n",
    "\n",
    "while confianca < confianca_alvo:\n",
    "    confiancaAnt = confianca\n",
    "    confianca = confianca + val_prop[k]/traco\n",
    "    k += 1\n",
    "    \n",
    "    print('(confiança, valor próprio): ({0}, {1})'.format(confianca, k))\n",
    "    \n",
    "    if confianca - confiancaAnt < 0.005:# and confianca > 0.8:\n",
    "        break\n",
    "        \n",
    "k, confianca"
   ]
  },
  {
   "cell_type": "code",
   "execution_count": 21,
   "metadata": {},
   "outputs": [],
   "source": [
    "k = 20"
   ]
  },
  {
   "cell_type": "markdown",
   "metadata": {},
   "source": [
    "#### Vamos ver onde se encontra o nosso k escolhido (método do cotovelo / elbow plot)"
   ]
  },
  {
   "cell_type": "code",
   "execution_count": 22,
   "metadata": {},
   "outputs": [
    {
     "data": {
      "image/png": "[encoded data removed]",
      "text/plain": [
       "<Figure size 720x720 with 1 Axes>"
      ]
     },
     "metadata": {
      "needs_background": "light"
     },
     "output_type": "display_data"
    }
   ],
   "source": [
    "plt.figure(figsize = (10, 10))\n",
    "t = np.arange(0, M, 1)\n",
    "plt.plot(t, val_prop, 'x')\n",
    "plt.plot(k, val_prop[k], 'o')\n",
    "plt.show()"
   ]
  },
  {
   "cell_type": "markdown",
   "metadata": {},
   "source": [
    "#### Queremos os k primeiros vetores próprios"
   ]
  },
  {
   "cell_type": "code",
   "execution_count": 138,
   "metadata": {},
   "outputs": [],
   "source": [
    "newE_Faces = e_faces[:, 0:k]"
   ]
  },
  {
   "cell_type": "code",
   "execution_count": 139,
   "metadata": {},
   "outputs": [
    {
     "data": {
      "text/plain": [
       "(360, 10304)"
      ]
     },
     "execution_count": 139,
     "metadata": {},
     "output_type": "execute_result"
    }
   ],
   "source": [
    "phi.shape"
   ]
  },
  {
   "cell_type": "code",
   "execution_count": 140,
   "metadata": {},
   "outputs": [
    {
     "data": {
      "text/plain": [
       "(10304, 32)"
      ]
     },
     "execution_count": 140,
     "metadata": {},
     "output_type": "execute_result"
    }
   ],
   "source": [
    "newE_Faces.shape"
   ]
  },
  {
   "cell_type": "code",
   "execution_count": 141,
   "metadata": {
    "scrolled": true
   },
   "outputs": [],
   "source": [
    "coef_proj = [np.dot(phi[i], newE_Faces) for i in range(M)]"
   ]
  },
  {
   "cell_type": "code",
   "execution_count": 142,
   "metadata": {},
   "outputs": [
    {
     "data": {
      "text/plain": [
       "<matplotlib.image.AxesImage at 0x196ca33e6a0>"
      ]
     },
     "metadata": {},
     "output_type": "display_data"
    },
    {
     "data": {
      "image/png": "[encoded data removed]",
      "text/plain": [
       "<Figure size 288x350.609 with 1 Axes>"
      ]
     },
     "metadata": {
      "needs_background": "light"
     },
     "output_type": "display_data"
    }
   ],
   "source": [
    "display(plt.matshow(np.reshape(newE_Faces.T[0], (112, 92)), cmap = 'gray'))"
   ]
  },
  {
   "cell_type": "code",
   "execution_count": 143,
   "metadata": {},
   "outputs": [
    {
     "data": {
      "text/plain": [
       "<matplotlib.image.AxesImage at 0x196cdf16160>"
      ]
     },
     "metadata": {},
     "output_type": "display_data"
    },
    {
     "data": {
      "image/png": "[encoded data removed]",
      "text/plain": [
       "<Figure size 288x350.609 with 1 Axes>"
      ]
     },
     "metadata": {
      "needs_background": "light"
     },
     "output_type": "display_data"
    }
   ],
   "source": [
    "display(plt.matshow(np.reshape(newE_Faces.T[1], (112, 92)), cmap = 'gray'))"
   ]
  },
  {
   "cell_type": "code",
   "execution_count": 144,
   "metadata": {},
   "outputs": [
    {
     "data": {
      "text/plain": [
       "<matplotlib.image.AxesImage at 0x196ca3ab640>"
      ]
     },
     "metadata": {},
     "output_type": "display_data"
    },
    {
     "data": {
      "image/png": "[encoded data removed]",
      "text/plain": [
       "<Figure size 288x350.609 with 1 Axes>"
      ]
     },
     "metadata": {
      "needs_background": "light"
     },
     "output_type": "display_data"
    }
   ],
   "source": [
    "display(plt.matshow(np.reshape(newE_Faces.T[2], (112, 92)), cmap = 'gray'))"
   ]
  },
  {
   "cell_type": "code",
   "execution_count": 145,
   "metadata": {},
   "outputs": [
    {
     "data": {
      "text/plain": [
       "<matplotlib.image.AxesImage at 0x196ca3902e0>"
      ]
     },
     "metadata": {},
     "output_type": "display_data"
    },
    {
     "data": {
      "image/png": "[encoded data removed]",
      "text/plain": [
       "<Figure size 288x350.609 with 1 Axes>"
      ]
     },
     "metadata": {
      "needs_background": "light"
     },
     "output_type": "display_data"
    }
   ],
   "source": [
    "display(plt.matshow(np.reshape(newE_Faces.T[3], (112, 92)), cmap = 'gray'))"
   ]
  },
  {
   "cell_type": "code",
   "execution_count": 146,
   "metadata": {},
   "outputs": [],
   "source": [
    "def euclidian(coef_proj, test_coef_proj, M):\n",
    "    dist = [np.linalg.norm(coef_proj[i] - test_coef_proj) for i in range(M)]\n",
    "    return dist"
   ]
  },
  {
   "cell_type": "code",
   "execution_count": 147,
   "metadata": {},
   "outputs": [],
   "source": [
    "def mahalanobis(coef_proj, test_coef_proj, val_prop, M):\n",
    "    dist = [np.sum(np.divide(pow(coef_proj[i] - test_coef_proj, 2), val_prop)) for i in range(M)]\n",
    "    return dist"
   ]
  },
  {
   "cell_type": "markdown",
   "metadata": {},
   "source": [
    "* Falta definir o limite para as duas distâncias quando tivermos as nossas fotos"
   ]
  },
  {
   "cell_type": "code",
   "execution_count": 148,
   "metadata": {},
   "outputs": [],
   "source": [
    "def recognition(dist, typeDist):\n",
    "    d_min = np.min(dist)\n",
    "    \n",
    "    if typeDist == 'euclidian':\n",
    "        limite = 3000\n",
    "    else:\n",
    "        limite = 0.03\n",
    "    \n",
    "    if d_min < limite:\n",
    "        # como temos 9 imagens por pasta\n",
    "        pasta = int(np.floor(np.argmin(dist)/9)+1)\n",
    "        print('Para a distância: ', typeDist)\n",
    "        print('\\tPasta s'f'{pasta}\\n\\tdist = {d_min}')\n",
    "        \n",
    "        return 's' + str(pasta)\n",
    "        #return 'Got Right'\n",
    "    else:\n",
    "        print('Falhou no reconhecimento.')\n",
    "        return 'Fail'"
   ]
  },
  {
   "cell_type": "code",
   "execution_count": 149,
   "metadata": {},
   "outputs": [],
   "source": [
    "def identifyImage(img, typeDist, plot):    \n",
    "    gamma = np.array(img.getdata())\n",
    "    test_phi = gamma - media\n",
    "    test_coef_proj = np.dot(test_phi, newE_Faces)\n",
    "    \n",
    "    if typeDist == 'euclidian':\n",
    "        dist = euclidian(coef_proj, test_coef_proj, M)\n",
    "    elif typeDist == 'mahalanobis':\n",
    "        dist = mahalanobis(coef_proj, test_coef_proj, val_prop[:k], M)\n",
    "    else:\n",
    "        print('Something went wrong :(')\n",
    "        return -1\n",
    "    \n",
    "    if plot == True:\n",
    "        return test_coef_proj[0:2]\n",
    "    else:\n",
    "        return recognition(dist, typeDist) "
   ]
  },
  {
   "cell_type": "code",
   "execution_count": 150,
   "metadata": {},
   "outputs": [
    {
     "name": "stdout",
     "output_type": "stream",
     "text": [
      "Para a distância:  euclidian\n",
      "\tPasta s1\n",
      "\tdist = 2603.77954502693\n"
     ]
    },
    {
     "data": {
      "text/plain": [
       "'s1'"
      ]
     },
     "execution_count": 150,
     "metadata": {},
     "output_type": "execute_result"
    }
   ],
   "source": [
    "identifyImage(Image.open(f'att/1.pgm').convert('L'), 'euclidian', False)"
   ]
  },
  {
   "cell_type": "code",
   "execution_count": 151,
   "metadata": {},
   "outputs": [
    {
     "data": {
      "text/plain": [
       "Text(0, 0.5, 'Eigenface 2')"
      ]
     },
     "execution_count": 151,
     "metadata": {},
     "output_type": "execute_result"
    },
    {
     "data": {
      "image/png": "[encoded data removed]",
      "text/plain": [
       "<Figure size 1080x1080 with 1 Axes>"
      ]
     },
     "metadata": {
      "needs_background": "light"
     },
     "output_type": "display_data"
    }
   ],
   "source": [
    "input_img = Image.open(f'att/1.pgm').convert('L')\n",
    "\n",
    "plt.figure(figsize = (15, 15))\n",
    "plt.axis('equal')\n",
    "for pasta in range(1, 41):\n",
    "    imagens = [Image.open(f'att/s{pasta}/{i}.pgm').convert('L') for i in range(3, 4)]\n",
    "    x, y = np.array([identifyImage(pic, 'euclidian', True) for pic in imagens]).T\n",
    "    plt.scatter(x, y, s = 50)\n",
    "    plt.text(x, y, pasta)\n",
    "plt.scatter(*identifyImage(input_img, 'euclidian', True), label = 'Input image', marker = '^', c = 'k', s = 100)\n",
    "plt.xlabel('Eigenface 1')\n",
    "plt.ylabel('Eigenface 2')"
   ]
  },
  {
   "cell_type": "code",
   "execution_count": 152,
   "metadata": {},
   "outputs": [],
   "source": [
    "from sklearn.metrics import confusion_matrix, classification_report\n",
    "\n",
    "def getScore(distanceMetric, real):\n",
    "    predictions = []\n",
    "    \n",
    "    for image in range(1, 31):\n",
    "        predictions.append(identifyImage(\n",
    "            Image.open(f'att/{image}.pgm').convert('L'),\n",
    "            distanceMetric, False))\n",
    "        \n",
    "    #print(confusion_matrix(real, predictions))\n",
    "    print(classification_report(real, predictions, digits = 3, zero_division = 0))"
   ]
  },
  {
   "cell_type": "code",
   "execution_count": 153,
   "metadata": {},
   "outputs": [],
   "source": [
    "test = []\n",
    "\n",
    "for i in range(1, 31):\n",
    "    test.append('s' + str(i))\n",
    "    #test.append('Got Right')"
   ]
  },
  {
   "cell_type": "code",
   "execution_count": 154,
   "metadata": {},
   "outputs": [
    {
     "name": "stdout",
     "output_type": "stream",
     "text": [
      "Falhou no reconhecimento.\n",
      "Para a distância:  mahalanobis\n",
      "\tPasta s2\n",
      "\tdist = 0.010676395356384313\n",
      "Para a distância:  mahalanobis\n",
      "\tPasta s3\n",
      "\tdist = 0.010041321491956695\n",
      "Falhou no reconhecimento.\n",
      "Para a distância:  mahalanobis\n",
      "\tPasta s40\n",
      "\tdist = 0.023399272358813537\n",
      "Para a distância:  mahalanobis\n",
      "\tPasta s6\n",
      "\tdist = 0.006824221364183664\n",
      "Para a distância:  mahalanobis\n",
      "\tPasta s7\n",
      "\tdist = 0.022578756600879744\n",
      "Para a distância:  mahalanobis\n",
      "\tPasta s8\n",
      "\tdist = 0.022354689115764076\n",
      "Falhou no reconhecimento.\n",
      "Falhou no reconhecimento.\n",
      "Para a distância:  mahalanobis\n",
      "\tPasta s11\n",
      "\tdist = 0.025355147435829322\n",
      "Para a distância:  mahalanobis\n",
      "\tPasta s12\n",
      "\tdist = 0.00959151193331303\n",
      "Para a distância:  mahalanobis\n",
      "\tPasta s13\n",
      "\tdist = 0.003668327241178275\n",
      "Falhou no reconhecimento.\n",
      "Para a distância:  mahalanobis\n",
      "\tPasta s15\n",
      "\tdist = 0.008923640967565122\n",
      "Para a distância:  mahalanobis\n",
      "\tPasta s16\n",
      "\tdist = 0.018655534438653913\n",
      "Para a distância:  mahalanobis\n",
      "\tPasta s17\n",
      "\tdist = 0.013571483829983286\n",
      "Para a distância:  mahalanobis\n",
      "\tPasta s18\n",
      "\tdist = 0.021830492081621224\n",
      "Para a distância:  mahalanobis\n",
      "\tPasta s19\n",
      "\tdist = 0.01611391011519296\n",
      "Para a distância:  mahalanobis\n",
      "\tPasta s20\n",
      "\tdist = 0.014229626992988662\n",
      "Para a distância:  mahalanobis\n",
      "\tPasta s21\n",
      "\tdist = 0.007223949187826812\n",
      "Para a distância:  mahalanobis\n",
      "\tPasta s22\n",
      "\tdist = 0.009056470463360774\n",
      "Para a distância:  mahalanobis\n",
      "\tPasta s23\n",
      "\tdist = 0.026744398247658206\n",
      "Para a distância:  mahalanobis\n",
      "\tPasta s24\n",
      "\tdist = 0.014302300607770156\n",
      "Para a distância:  mahalanobis\n",
      "\tPasta s25\n",
      "\tdist = 0.01894582205793237\n",
      "Para a distância:  mahalanobis\n",
      "\tPasta s26\n",
      "\tdist = 0.003939169442892344\n",
      "Para a distância:  mahalanobis\n",
      "\tPasta s27\n",
      "\tdist = 0.02286824102599348\n",
      "Falhou no reconhecimento.\n",
      "Para a distância:  mahalanobis\n",
      "\tPasta s29\n",
      "\tdist = 0.019827260826142817\n",
      "Para a distância:  mahalanobis\n",
      "\tPasta s30\n",
      "\tdist = 0.011917408931976767\n",
      "              precision    recall  f1-score   support\n",
      "\n",
      "        Fail      0.000     0.000     0.000         0\n",
      "          s1      0.000     0.000     0.000         1\n",
      "         s10      0.000     0.000     0.000         1\n",
      "         s11      1.000     1.000     1.000         1\n",
      "         s12      1.000     1.000     1.000         1\n",
      "         s13      1.000     1.000     1.000         1\n",
      "         s14      0.000     0.000     0.000         1\n",
      "         s15      1.000     1.000     1.000         1\n",
      "         s16      1.000     1.000     1.000         1\n",
      "         s17      1.000     1.000     1.000         1\n",
      "         s18      1.000     1.000     1.000         1\n",
      "         s19      1.000     1.000     1.000         1\n",
      "          s2      1.000     1.000     1.000         1\n",
      "         s20      1.000     1.000     1.000         1\n",
      "         s21      1.000     1.000     1.000         1\n",
      "         s22      1.000     1.000     1.000         1\n",
      "         s23      1.000     1.000     1.000         1\n",
      "         s24      1.000     1.000     1.000         1\n",
      "         s25      1.000     1.000     1.000         1\n",
      "         s26      1.000     1.000     1.000         1\n",
      "         s27      1.000     1.000     1.000         1\n",
      "         s28      0.000     0.000     0.000         1\n",
      "         s29      1.000     1.000     1.000         1\n",
      "          s3      1.000     1.000     1.000         1\n",
      "         s30      1.000     1.000     1.000         1\n",
      "          s4      0.000     0.000     0.000         1\n",
      "         s40      0.000     0.000     0.000         0\n",
      "          s5      0.000     0.000     0.000         1\n",
      "          s6      1.000     1.000     1.000         1\n",
      "          s7      1.000     1.000     1.000         1\n",
      "          s8      1.000     1.000     1.000         1\n",
      "          s9      0.000     0.000     0.000         1\n",
      "\n",
      "    accuracy                          0.767        30\n",
      "   macro avg      0.719     0.719     0.719        30\n",
      "weighted avg      0.767     0.767     0.767        30\n",
      "\n"
     ]
    }
   ],
   "source": [
    "getScore('mahalanobis', test)"
   ]
  },
  {
   "cell_type": "code",
   "execution_count": 155,
   "metadata": {},
   "outputs": [
    {
     "name": "stdout",
     "output_type": "stream",
     "text": [
      "Para a distância:  euclidian\n",
      "\tPasta s1\n",
      "\tdist = 2603.77954502693\n",
      "Para a distância:  euclidian\n",
      "\tPasta s2\n",
      "\tdist = 856.8560772593092\n",
      "Para a distância:  euclidian\n",
      "\tPasta s3\n",
      "\tdist = 866.9482077679538\n",
      "Para a distância:  euclidian\n",
      "\tPasta s4\n",
      "\tdist = 1332.6813263324113\n",
      "Para a distância:  euclidian\n",
      "\tPasta s40\n",
      "\tdist = 1595.4817862658817\n",
      "Para a distância:  euclidian\n",
      "\tPasta s6\n",
      "\tdist = 602.6892112356262\n",
      "Para a distância:  euclidian\n",
      "\tPasta s7\n",
      "\tdist = 1310.2123624028395\n",
      "Para a distância:  euclidian\n",
      "\tPasta s8\n",
      "\tdist = 1185.3505509931638\n",
      "Para a distância:  euclidian\n",
      "\tPasta s9\n",
      "\tdist = 1402.4178533478337\n",
      "Para a distância:  euclidian\n",
      "\tPasta s38\n",
      "\tdist = 2731.774882052742\n",
      "Para a distância:  euclidian\n",
      "\tPasta s11\n",
      "\tdist = 1251.9810010224478\n",
      "Para a distância:  euclidian\n",
      "\tPasta s12\n",
      "\tdist = 826.0775387554044\n",
      "Para a distância:  euclidian\n",
      "\tPasta s13\n",
      "\tdist = 423.2406926647856\n",
      "Para a distância:  euclidian\n",
      "\tPasta s14\n",
      "\tdist = 1887.9238264091728\n",
      "Para a distância:  euclidian\n",
      "\tPasta s15\n",
      "\tdist = 737.2431558829265\n",
      "Para a distância:  euclidian\n",
      "\tPasta s16\n",
      "\tdist = 1626.5224675557538\n",
      "Para a distância:  euclidian\n",
      "\tPasta s17\n",
      "\tdist = 945.1056237682102\n",
      "Para a distância:  euclidian\n",
      "\tPasta s18\n",
      "\tdist = 1470.344742822526\n",
      "Para a distância:  euclidian\n",
      "\tPasta s19\n",
      "\tdist = 1232.412924526874\n",
      "Para a distância:  euclidian\n",
      "\tPasta s20\n",
      "\tdist = 883.7212353310329\n",
      "Para a distância:  euclidian\n",
      "\tPasta s21\n",
      "\tdist = 837.6686443483625\n",
      "Para a distância:  euclidian\n",
      "\tPasta s22\n",
      "\tdist = 831.714826446952\n",
      "Para a distância:  euclidian\n",
      "\tPasta s23\n",
      "\tdist = 1407.8682796944126\n",
      "Para a distância:  euclidian\n",
      "\tPasta s24\n",
      "\tdist = 1028.0384866660138\n",
      "Para a distância:  euclidian\n",
      "\tPasta s25\n",
      "\tdist = 993.3810462312046\n",
      "Para a distância:  euclidian\n",
      "\tPasta s26\n",
      "\tdist = 471.3451164028967\n",
      "Para a distância:  euclidian\n",
      "\tPasta s27\n",
      "\tdist = 1434.917555281945\n",
      "Para a distância:  euclidian\n",
      "\tPasta s28\n",
      "\tdist = 1597.5995914667521\n",
      "Para a distância:  euclidian\n",
      "\tPasta s29\n",
      "\tdist = 1369.4525673984938\n",
      "Para a distância:  euclidian\n",
      "\tPasta s30\n",
      "\tdist = 930.8938521142355\n",
      "              precision    recall  f1-score   support\n",
      "\n",
      "          s1      1.000     1.000     1.000         1\n",
      "         s10      0.000     0.000     0.000         1\n",
      "         s11      1.000     1.000     1.000         1\n",
      "         s12      1.000     1.000     1.000         1\n",
      "         s13      1.000     1.000     1.000         1\n",
      "         s14      1.000     1.000     1.000         1\n",
      "         s15      1.000     1.000     1.000         1\n",
      "         s16      1.000     1.000     1.000         1\n",
      "         s17      1.000     1.000     1.000         1\n",
      "         s18      1.000     1.000     1.000         1\n",
      "         s19      1.000     1.000     1.000         1\n",
      "          s2      1.000     1.000     1.000         1\n",
      "         s20      1.000     1.000     1.000         1\n",
      "         s21      1.000     1.000     1.000         1\n",
      "         s22      1.000     1.000     1.000         1\n",
      "         s23      1.000     1.000     1.000         1\n",
      "         s24      1.000     1.000     1.000         1\n",
      "         s25      1.000     1.000     1.000         1\n",
      "         s26      1.000     1.000     1.000         1\n",
      "         s27      1.000     1.000     1.000         1\n",
      "         s28      1.000     1.000     1.000         1\n",
      "         s29      1.000     1.000     1.000         1\n",
      "          s3      1.000     1.000     1.000         1\n",
      "         s30      1.000     1.000     1.000         1\n",
      "         s38      0.000     0.000     0.000         0\n",
      "          s4      1.000     1.000     1.000         1\n",
      "         s40      0.000     0.000     0.000         0\n",
      "          s5      0.000     0.000     0.000         1\n",
      "          s6      1.000     1.000     1.000         1\n",
      "          s7      1.000     1.000     1.000         1\n",
      "          s8      1.000     1.000     1.000         1\n",
      "          s9      1.000     1.000     1.000         1\n",
      "\n",
      "    accuracy                          0.933        30\n",
      "   macro avg      0.875     0.875     0.875        30\n",
      "weighted avg      0.933     0.933     0.933        30\n",
      "\n"
     ]
    }
   ],
   "source": [
    "getScore('euclidian', test)"
   ]
  }
 ],
 "metadata": {
  "kernelspec": {
   "display_name": "Python 3",
   "language": "python",
   "name": "python3"
  },
  "language_info": {
   "codemirror_mode": {
    "name": "ipython",
    "version": 3
   },
   "file_extension": ".py",
   "mimetype": "text/x-python",
   "name": "python",
   "nbconvert_exporter": "python",
   "pygments_lexer": "ipython3",
   "version": "3.8.3"
  }
 },
 "nbformat": 4,
 "nbformat_minor": 4
}
